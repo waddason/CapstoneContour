{
 "cells": [
  {
   "cell_type": "markdown",
   "metadata": {},
   "source": [
    "# 🏗️ Projet Capstone Vinci - Détection des Contours de Pièces sur Plans Architecturaux\n",
    "\n",
    "Auteur : Fabien Lagnieu\n",
    "\n",
    "Date : 2025-03-10"
   ]
  },
  {
   "cell_type": "markdown",
   "metadata": {},
   "source": [
    "---\n",
    "## 🛠️ Interface interactive de traitement\n",
    "\n",
    "L'interface suivante permet de:\n",
    "- **sélectionner un fichier**   \n",
    "      👉 Les plans GeoJSON à analyser doivent être mis dans le dossier `00_input_geojson/`.\n",
    "\n",
    "\n",
    "- **régler les paramètres**   \n",
    "      👉 Voir description dans l'interface.\n",
    "\n",
    "      \n",
    "- **lancer l'analyse**.   \n",
    "      👉 Les plans GeoJSON générés sont sauvegardés dans le dossier `05_rooms_contours_geojson/`"
   ]
  },
  {
   "cell_type": "code",
   "execution_count": 2,
   "metadata": {},
   "outputs": [
    {
     "data": {
      "application/vnd.jupyter.widget-view+json": {
       "model_id": "3f9a81dfae104f82b54246589dae91ec",
       "version_major": 2,
       "version_minor": 0
      },
      "text/plain": [
       "VBox(children=(HTML(value='<h2>📋 Traitement complet des plans GeoJSON</h2>'), Dropdown(description='📁 Fichier …"
      ]
     },
     "metadata": {},
     "output_type": "display_data"
    }
   ],
   "source": [
    "import tools.visualization_tools as vt\n",
    "vt.create_ui_pipeline()"
   ]
  }
 ],
 "metadata": {
  "kernelspec": {
   "display_name": "M2datascience",
   "language": "python",
   "name": "python3"
  },
  "language_info": {
   "codemirror_mode": {
    "name": "ipython",
    "version": 3
   },
   "file_extension": ".py",
   "mimetype": "text/x-python",
   "name": "python",
   "nbconvert_exporter": "python",
   "pygments_lexer": "ipython3",
   "version": "3.12.3"
  }
 },
 "nbformat": 4,
 "nbformat_minor": 2
}
