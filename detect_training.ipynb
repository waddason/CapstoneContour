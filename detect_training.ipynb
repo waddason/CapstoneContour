{
 "cells": [
  {
   "cell_type": "code",
   "execution_count": null,
   "id": "489c6803-2f02-4464-a9f1-f2de42bf1405",
   "metadata": {},
   "outputs": [],
   "source": [
    "## pip install -q ultralytics\n",
    "## The docs: https://docs.ultralytics.com/fr/modes/"
   ]
  },
  {
   "cell_type": "code",
   "execution_count": null,
   "id": "c51347e6-f2d1-4be1-b707-9269350c8463",
   "metadata": {},
   "outputs": [],
   "source": [
    "from ultralytics import YOLO\n",
    "import cv2 \n",
    "import json\n",
    "\n",
    "train = False"
   ]
  },
  {
   "cell_type": "code",
   "execution_count": null,
   "id": "59c00fb7-bfee-4164-866a-c879951ebf20",
   "metadata": {},
   "outputs": [],
   "source": [
    "if train == True:\n",
    "    # Load a pretrained YOLO model (recommended for training)\n",
    "    model = YOLO(\"yolo11n.pt\")\n",
    "    model.train(data=\"room_segmentation/data.yaml\", epochs=200, imgsz=640, plots=True)"
   ]
  },
  {
   "cell_type": "code",
   "execution_count": null,
   "id": "74e5276b",
   "metadata": {},
   "outputs": [],
   "source": [
    "# Load the dectection YOLO trained model\n",
    "model = YOLO(\"runs/detect/train/weights/best.pt\")"
   ]
  },
  {
   "cell_type": "code",
   "execution_count": null,
   "id": "67667e3d-1143-41d8-8e6a-1b7b751cdae9",
   "metadata": {},
   "outputs": [],
   "source": [
    "# Run batched inference on a list of images\n",
    "results = model(['test_image/samples/output0.png'])  # return a list of Results objects\n",
    "\n",
    "# Process results list\n",
    "for i, result in enumerate(results):\n",
    "    boxes = result.boxes  # Boxes object for bounding box outputs\n",
    "    keypoints = result.keypoints  # Keypoints object for pose outputs\n",
    "    probs = result.probs  # Probs object for classification outputs\n",
    "    # result.show()  # display to screen\n",
    "    result.save(filename=f\"result{i}.png\")  # save to disk"
   ]
  },
  {
   "cell_type": "code",
   "execution_count": null,
   "id": "d50ae9d4-c90a-4a61-a13e-ad049d6b5960",
   "metadata": {},
   "outputs": [],
   "source": [
    "def customize_plot(orig_pic, result, threshold_conf=None):\n",
    "    boxes = result.boxes  # Boxes object for bounding box outputs\n",
    "    xyxys = boxes.xyxy\n",
    "    confs = boxes.conf\n",
    "    for i, xyxy in enumerate(xyxys):\n",
    "        if threshold_conf is not None and confs[i] < threshold_conf:\n",
    "                continue\n",
    "        x1, y1, x2, y2 = map(int, xyxy)\n",
    "        cv2.rectangle(orig_pic, (x1, y1), (x2, y2), (0, 255, 0), 2)  # Draw rectangle\n",
    "    return orig_pic     "
   ]
  },
  {
   "cell_type": "code",
   "execution_count": null,
   "id": "41d70c2c-8c02-45b8-9021-42deac1cc6a7",
   "metadata": {},
   "outputs": [],
   "source": [
    "# Load image\n",
    "image = cv2.imread('test_image/samples/output0.png')\n",
    "inferance_image = customize_plot(image, results[0])\n",
    "cv2.imwrite(\"test_image/results_samples/output0.png\", inferance_image)"
   ]
  },
  {
   "cell_type": "code",
   "execution_count": null,
   "id": "6b8a14e3-97cd-4784-8c5f-c706974cbd18",
   "metadata": {},
   "outputs": [],
   "source": [
    "def save_room_geojson(paths, results, threshold_conf=None):\n",
    "    geojson = {\n",
    "        \"type\": \"FeatureCollection\",\n",
    "        \"features\": []\n",
    "    }\n",
    "    \n",
    "    for i, result in enumerate(results):\n",
    "        boxes = result.boxes  # Bounding box outputs\n",
    "        xyxys = boxes.xyxy\n",
    "        confs = boxes.conf\n",
    "        for i, xyxy in enumerate(xyxys):\n",
    "            # Optionally filter by confidence\n",
    "            if threshold_conf is not None and confs[i] < threshold_conf:\n",
    "                continue\n",
    "            # Create GeoJSON feature for the bounding box\n",
    "            x1, y1, x2, y2 = map(int, xyxy)\n",
    "            feature = {\n",
    "                \"type\": \"Feature\",\n",
    "                \"geometry\": {\n",
    "                    \"type\": \"Polygon\",\n",
    "                    \"coordinates\": [[\n",
    "                        [x1, y1],  # Top-left\n",
    "                        [x2, y1],  # Top-right\n",
    "                        [x2, y2],  # Bottom-right\n",
    "                        [x1, y2],  # Bottom-left\n",
    "                        [x1, y1]   # Closing the polygon\n",
    "                    ]]\n",
    "                },\n",
    "                \"properties\": {\n",
    "                    \"confidence\": float(confs[i])\n",
    "                }\n",
    "            }\n",
    "            geojson[\"features\"].append(feature)\n",
    "        # Save the GeoJSON to a file\n",
    "        print(i)\n",
    "        with open(paths[i], 'w') as f:\n",
    "            json.dump(geojson, f, indent=4)\n",
    "    print(f\"GeoJSON saved\")\n"
   ]
  },
  {
   "cell_type": "code",
   "execution_count": null,
   "id": "1303a0fe-f253-4049-8789-3e11a3129ce3",
   "metadata": {},
   "outputs": [],
   "source": [
    "paths = ['test_image/geosjson/output0.geojson']\n",
    "save_room_geojson(paths, results)"
   ]
  }
 ],
 "metadata": {
  "kernelspec": {
   "display_name": "Python 3",
   "language": "python",
   "name": "python3"
  },
  "language_info": {
   "codemirror_mode": {
    "name": "ipython",
    "version": 3
   },
   "file_extension": ".py",
   "mimetype": "text/x-python",
   "name": "python",
   "nbconvert_exporter": "python",
   "pygments_lexer": "ipython3",
   "version": "3.12.9"
  }
 },
 "nbformat": 4,
 "nbformat_minor": 5
}
