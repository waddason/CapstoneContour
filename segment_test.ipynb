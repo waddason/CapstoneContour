{
 "cells": [
  {
   "cell_type": "markdown",
   "metadata": {},
   "source": [
    "# Segment tests"
   ]
  },
  {
   "cell_type": "markdown",
   "metadata": {},
   "source": [
    "## 1. Check classes"
   ]
  },
  {
   "cell_type": "code",
   "execution_count": 1,
   "metadata": {},
   "outputs": [],
   "source": [
    "%reload_ext autoreload\n",
    "%autoreload 2"
   ]
  },
  {
   "cell_type": "code",
   "execution_count": 2,
   "metadata": {},
   "outputs": [],
   "source": [
    "from pathlib import Path\n",
    "from importlib import reload\n",
    "import segment_geometry as sg\n"
   ]
  },
  {
   "cell_type": "code",
   "execution_count": 3,
   "metadata": {},
   "outputs": [
    {
     "name": "stdout",
     "output_type": "stream",
     "text": [
      "Test 2\n"
     ]
    }
   ],
   "source": [
    "sg.print_test()"
   ]
  },
  {
   "cell_type": "code",
   "execution_count": 50,
   "metadata": {},
   "outputs": [],
   "source": [
    "a = sg.Pt(10.10, 10.10)\n",
    "b = sg.Pt(10.10, 20.10)\n",
    "c = sg.Pt(100, 100)\n",
    "d = sg.Pt(10.10, 10.11)\n",
    "e = sg.Pt(10.10, 10.12)\n",
    "f = sg.Pt(10.11, 10.11)\n",
    "g = sg.Pt(10.11, 20.10)\n",
    "h = sg.Pt(10.10, 100)\n",
    "pt_list = [a, b, c, d, e, f, g, h]"
   ]
  },
  {
   "cell_type": "code",
   "execution_count": 22,
   "metadata": {},
   "outputs": [
    {
     "name": "stdout",
     "output_type": "stream",
     "text": [
      "True 0.0\n",
      "False 10.000000000000002\n",
      "False 127.13779925734126\n",
      "True 0.009999999999999787\n",
      "False 0.019999999999999574\n",
      "False 0.014142135623730649\n"
     ]
    }
   ],
   "source": [
    "for pt in pt_list:\n",
    "    print(a.is_approx_eq(pt), a.distance(pt))\n"
   ]
  },
  {
   "cell_type": "code",
   "execution_count": 23,
   "metadata": {},
   "outputs": [
    {
     "name": "stdout",
     "output_type": "stream",
     "text": [
      "True False True\n"
     ]
    }
   ],
   "source": [
    "a1 = sg.Pt(0, 0)\n",
    "a2 = sg.Pt(0.01, 0)\n",
    "a3 = sg.Pt(0.01, 0.01)\n",
    "print(a1.is_approx_eq(a2), a1.is_approx_eq(a3), a2.is_approx_eq(a3))"
   ]
  },
  {
   "cell_type": "code",
   "execution_count": 55,
   "metadata": {},
   "outputs": [],
   "source": [
    "ab = sg.Segment(a, b)\n",
    "ac = sg.Segment(a, c)\n",
    "ag = sg.Segment(a, g)\n",
    "db = sg.Segment(d, b)\n",
    "eb = sg.Segment(e, b)\n",
    "fb = sg.Segment(f, b)\n",
    "dg = sg.Segment(d, g)\n",
    "eg = sg.Segment(e, g)\n",
    "fg = sg.Segment(f, g)\n",
    "fc = sg.Segment(f, c)\n",
    "ah = sg.Segment(a, h)\n",
    "hc = sg.Segment(h, c)\n",
    "seg_dic = {\n",
    "    \"ab\": ab,\n",
    "    \"ac\": ac,\n",
    "    \"ag\": ag,\n",
    "    \"db\": db,\n",
    "    \"eb\": eb,\n",
    "    \"fb\": fb,\n",
    "    \"dg\": dg,\n",
    "    \"eg\": eg,\n",
    "    \"fg\": fg,\n",
    "    \"fc\": fc,\n",
    "    \"ah\": ah,\n",
    "    \"hc\": hc,\n",
    "}"
   ]
  },
  {
   "cell_type": "code",
   "execution_count": 56,
   "metadata": {},
   "outputs": [
    {
     "name": "stdout",
     "output_type": "stream",
     "text": [
      "ab/ab ==:True \t/:True\tT:False\tin:True\t\n",
      "ab/ac ==:False \t/:False\tT:False\tin:False\t\n",
      "ab/ag ==:True \t/:True\tT:False\tin:True\t\n",
      "ab/db ==:True \t/:True\tT:False\tin:True\t\n",
      "ab/eb ==:False \t/:True\tT:False\tin:False\t\n",
      "ab/fb ==:False \t/:True\tT:False\tin:False\t\n",
      "ab/dg ==:True \t/:True\tT:False\tin:True\t\n",
      "ab/eg ==:False \t/:True\tT:False\tin:False\t\n",
      "ab/fg ==:False \t/:True\tT:False\tin:False\t\n",
      "ab/fc ==:False \t/:False\tT:False\tin:False\t\n",
      "ab/ah ==:False \t/:True\tT:False\tin:False\t\n",
      "ab/hc ==:False \t/:False\tT:True\tin:False\t\n"
     ]
    }
   ],
   "source": [
    "for seg_name, seg in seg_dic.items():\n",
    "    print(\n",
    "        f\"ab/{seg_name} ==:{ab.is_approx_eq(seg)} \\t/:{ab.is_parallel(seg)}\\tT:{ab.is_orthogonal(seg)}\\tin:{ab.contains(seg)}\\t\"\n",
    "    )"
   ]
  },
  {
   "cell_type": "code",
   "execution_count": 41,
   "metadata": {},
   "outputs": [
    {
     "data": {
      "text/plain": [
       "array([ 0., 10.])"
      ]
     },
     "execution_count": 41,
     "metadata": {},
     "output_type": "execute_result"
    }
   ],
   "source": [
    "ab.vector"
   ]
  },
  {
   "cell_type": "code",
   "execution_count": 42,
   "metadata": {},
   "outputs": [
    {
     "data": {
      "text/plain": [
       "array([0.  , 9.99])"
      ]
     },
     "execution_count": 42,
     "metadata": {},
     "output_type": "execute_result"
    }
   ],
   "source": [
    "fg.vector"
   ]
  },
  {
   "cell_type": "code",
   "execution_count": 43,
   "metadata": {},
   "outputs": [
    {
     "data": {
      "text/plain": [
       "np.float64(99.90000000000003)"
      ]
     },
     "execution_count": 43,
     "metadata": {},
     "output_type": "execute_result"
    }
   ],
   "source": [
    "import numpy as np\n",
    "\n",
    "np.dot(ab.vector, fg.vector)"
   ]
  },
  {
   "cell_type": "code",
   "execution_count": 44,
   "metadata": {},
   "outputs": [
    {
     "data": {
      "text/plain": [
       "np.float64(99.90000000000003)"
      ]
     },
     "execution_count": 44,
     "metadata": {},
     "output_type": "execute_result"
    }
   ],
   "source": [
    "ab.length * fg.length"
   ]
  },
  {
   "cell_type": "code",
   "execution_count": 45,
   "metadata": {},
   "outputs": [
    {
     "data": {
      "text/plain": [
       "np.float64(899.0000000000002)"
      ]
     },
     "execution_count": 45,
     "metadata": {},
     "output_type": "execute_result"
    }
   ],
   "source": [
    "np.dot(ab.vector, ac.vector)"
   ]
  },
  {
   "cell_type": "code",
   "execution_count": 46,
   "metadata": {},
   "outputs": [
    {
     "data": {
      "text/plain": [
       "np.float64(1271.3779925734127)"
      ]
     },
     "execution_count": 46,
     "metadata": {},
     "output_type": "execute_result"
    }
   ],
   "source": [
    "ab.length * ac.length"
   ]
  },
  {
   "cell_type": "code",
   "execution_count": 57,
   "metadata": {},
   "outputs": [
    {
     "name": "stdout",
     "output_type": "stream",
     "text": [
      "False\n",
      "False\n",
      "False\n",
      "False\n",
      "True\n",
      "True\n",
      "False\n",
      "False\n"
     ]
    }
   ],
   "source": [
    "for pt in pt_list:\n",
    "    print(ab.contains(pt))"
   ]
  },
  {
   "cell_type": "code",
   "execution_count": 64,
   "metadata": {},
   "outputs": [
    {
     "data": {
      "text/plain": [
       "np.True_"
      ]
     },
     "execution_count": 64,
     "metadata": {},
     "output_type": "execute_result"
    }
   ],
   "source": [
    "i = sg.Pt(10.1, 40)\n",
    "ah.contains(i)"
   ]
  },
  {
   "cell_type": "code",
   "execution_count": 65,
   "metadata": {},
   "outputs": [
    {
     "data": {
      "text/plain": [
       "False"
      ]
     },
     "execution_count": 65,
     "metadata": {},
     "output_type": "execute_result"
    }
   ],
   "source": [
    "ab.contains(sg.Segment(b, i))"
   ]
  },
  {
   "cell_type": "code",
   "execution_count": 69,
   "metadata": {},
   "outputs": [
    {
     "data": {
      "text/plain": [
       "np.True_"
      ]
     },
     "execution_count": 69,
     "metadata": {},
     "output_type": "execute_result"
    }
   ],
   "source": [
    "ah.contains(bi)"
   ]
  },
  {
   "cell_type": "code",
   "execution_count": 67,
   "metadata": {},
   "outputs": [
    {
     "data": {
      "text/plain": [
       "Segment(POINT (10.1 20.1), POINT (10.1 40))"
      ]
     },
     "execution_count": 67,
     "metadata": {},
     "output_type": "execute_result"
    }
   ],
   "source": [
    "bi = sg.Segment(b, i)\n",
    "bi"
   ]
  },
  {
   "cell_type": "code",
   "execution_count": 68,
   "metadata": {},
   "outputs": [
    {
     "data": {
      "text/plain": [
       "Segment(POINT (10.1 10.1), POINT (10.1 100))"
      ]
     },
     "execution_count": 68,
     "metadata": {},
     "output_type": "execute_result"
    }
   ],
   "source": [
    "ah"
   ]
  },
  {
   "cell_type": "code",
   "execution_count": null,
   "metadata": {},
   "outputs": [],
   "source": []
  }
 ],
 "metadata": {
  "kernelspec": {
   "display_name": "contour",
   "language": "python",
   "name": "python3"
  },
  "language_info": {
   "codemirror_mode": {
    "name": "ipython",
    "version": 3
   },
   "file_extension": ".py",
   "mimetype": "text/x-python",
   "name": "python",
   "nbconvert_exporter": "python",
   "pygments_lexer": "ipython3",
   "version": "3.13.1"
  }
 },
 "nbformat": 4,
 "nbformat_minor": 2
}
