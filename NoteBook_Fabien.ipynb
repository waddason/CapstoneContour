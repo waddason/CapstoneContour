{
 "cells": [
  {
   "cell_type": "code",
   "execution_count": null,
   "metadata": {},
   "outputs": [],
   "source": [
    "import pandas as pd\n",
    "import geopandas as gpd\n",
    "from shapely.geometry import LineString, Polygon, MultiLineString\n",
    "from pathlib import Path\n",
    "import matplotlib.pyplot as plt"
   ]
  },
  {
   "cell_type": "code",
   "execution_count": null,
   "metadata": {},
   "outputs": [],
   "source": [
    "paths = []\n",
    "\n",
    "for i in range (9) :\n",
    "    paths.append(Path(\"data\", f\"Output{i+1}.geojson\"))\n"
   ]
  },
  {
   "cell_type": "code",
   "execution_count": null,
   "metadata": {},
   "outputs": [],
   "source": [
    "def plot_map(path):\n",
    "\n",
    "    gdf = gpd.GeoDataFrame.from_file(path)\n",
    "\n",
    "    import matplotlib.pyplot as plt\n",
    "\n",
    "    fig, axs = plt.subplots(1, 3, figsize=(50, 50))\n",
    "\n",
    "    fig.suptitle(path, fontsize=50)\n",
    "\n",
    "    gdf.plot(ax=axs[0], aspect=1)\n",
    "    gdf.boundary.plot(ax=axs[1], aspect=1)\n",
    "    gdf.boundary.buffer(100).plot(ax=axs[2], aspect=1)\n",
    "\n",
    "    axs[0].set_title(\"Original\", fontsize=40)\n",
    "    axs[1].set_title(\"Boundary\", fontsize=40)\n",
    "    axs[2].set_title(\"Buffered Boundary\", fontsize=40)\n",
    "\n",
    "    for ax in axs:\n",
    "        ax.tick_params(axis='both', labelsize=30)\n",
    "\n",
    "    plt.show()\n",
    "\n",
    "    fig.savefig(Path(\"maps\", f\"{path.stem}.png\"))"
   ]
  },
  {
   "cell_type": "code",
   "execution_count": null,
   "metadata": {},
   "outputs": [],
   "source": [
    "for path in paths:\n",
    "    plot_map(path)"
   ]
  },
  {
   "cell_type": "code",
   "execution_count": null,
   "metadata": {},
   "outputs": [],
   "source": [
    "#Nombre de features par fichier, nombre de features par type de géométrie, nombre de lignes de code par fichier\n",
    "\n",
    "for path in paths:\n",
    "    gdf = gpd.GeoDataFrame.from_file(path)\n",
    "    print(f\"   - {path.stem} : {len(gdf)} features\")\n",
    "    print(f\"{gdf.geom_type.value_counts()}\")\n",
    "    print(f\"{path.stem} : {len(open(path).readlines())} lignes de code\\n\")\n",
    "\n",
    "\n"
   ]
  },
  {
   "cell_type": "code",
   "execution_count": null,
   "metadata": {},
   "outputs": [],
   "source": [
    "def geojson_to_image(file_path, output_path, dpi=300):\n",
    "    gdf = gpd.read_file(file_path)\n",
    "    \n",
    "    # Configurer la taille de la figure\n",
    "    fig, ax = plt.subplots(1, 1, figsize=(1000, 1000))\n",
    "    gdf.plot(ax=ax, color=\"black\", edgecolor=\"white\")\n",
    "    \n",
    "    # Enregistrer l'image\n",
    "    plt.axis(\"off\")  # Masquer les axes pour une image propre\n",
    "    plt.savefig(output_path, dpi=dpi, bbox_inches=\"tight\", pad_inches=0)\n",
    "    plt.close(fig)\n",
    "    print(f\"Image générée : {output_path}\")\n",
    "\n",
    "for path in paths:\n",
    "    output_image = path.with_suffix(\".png\")\n",
    "    geojson_to_image(path, output_image)"
   ]
  },
  {
   "cell_type": "code",
   "execution_count": null,
   "metadata": {},
   "outputs": [],
   "source": [
    "import cv2\n",
    "import numpy as np\n",
    "from matplotlib import pyplot as plt\n",
    "\n",
    "def segment_image(image_path, output_path):\n",
    "    # Charger l'image en niveaux de gris\n",
    "    image = cv2.imread(image_path, cv2.IMREAD_GRAYSCALE)\n",
    "    \n",
    "    # Binarisation (seuil)\n",
    "    _, binary = cv2.threshold(image, 127, 255, cv2.THRESH_BINARY_INV)\n",
    "    \n",
    "    # Détection des contours\n",
    "    contours, _ = cv2.findContours(binary, cv2.RETR_EXTERNAL, cv2.CHAIN_APPROX_SIMPLE)\n",
    "    \n",
    "    # Créer une image pour visualiser les contours\n",
    "    output = cv2.cvtColor(image, cv2.COLOR_GRAY2BGR)\n",
    "    for i, contour in enumerate(contours):\n",
    "        color = tuple(np.random.randint(0, 255, 3).tolist())  # Couleur aléatoire\n",
    "        cv2.drawContours(output, [contour], -1, color, 2)\n",
    "    \n",
    "    # Enregistrer l'image avec les contours\n",
    "    cv2.imwrite(output_path, output)\n",
    "    print(f\"Image segmentée enregistrée : {output_path}\")\n",
    "\n",
    "# Appliquer la segmentation sur les images générées\n",
    "for path in geojson_paths:\n",
    "    image_path = path.with_suffix(\".png\")\n",
    "    output_path = path.with_name(f\"{path.stem}_segmented.png\")\n",
    "    segment_image(str(image_path), str(output_path))\n"
   ]
  }
 ],
 "metadata": {
  "kernelspec": {
   "display_name": "Python 3",
   "language": "python",
   "name": "python3"
  },
  "language_info": {
   "codemirror_mode": {
    "name": "ipython",
    "version": 3
   },
   "file_extension": ".py",
   "mimetype": "text/x-python",
   "name": "python",
   "nbconvert_exporter": "python",
   "pygments_lexer": "ipython3",
   "version": "3.12.9"
  }
 },
 "nbformat": 4,
 "nbformat_minor": 2
}
