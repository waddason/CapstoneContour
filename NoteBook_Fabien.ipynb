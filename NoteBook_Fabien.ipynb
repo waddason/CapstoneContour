{
 "cells": [
  {
   "cell_type": "code",
   "execution_count": 18,
   "metadata": {},
   "outputs": [],
   "source": [
    "import pandas as pd\n",
    "import geopandas as gpd\n",
    "from shapely.geometry import LineString, Polygon, MultiLineString\n",
    "from pathlib import Path"
   ]
  },
  {
   "cell_type": "code",
   "execution_count": 19,
   "metadata": {},
   "outputs": [
    {
     "name": "stdout",
     "output_type": "stream",
     "text": [
      "[PosixPath('data/clean/Output0_clean.geojson'), PosixPath('data/clean/Output1_clean.geojson'), PosixPath('data/clean/Output2_clean.geojson'), PosixPath('data/clean/Output3_clean.geojson'), PosixPath('data/clean/Output4_clean.geojson'), PosixPath('data/clean/Output5_clean.geojson'), PosixPath('data/clean/Output6_clean.geojson'), PosixPath('data/clean/Output7_clean.geojson'), PosixPath('data/clean/Output8_clean.geojson')]\n"
     ]
    }
   ],
   "source": [
    "paths = []\n",
    "\n",
    "for i in range (9) :\n",
    "    paths.append(Path(\"data/clean\", f\"Output{i}_clean.geojson\"))\n",
    "\n",
    "print(paths)\n"
   ]
  },
  {
   "cell_type": "code",
   "execution_count": 20,
   "metadata": {},
   "outputs": [],
   "source": [
    "import parse_geojson\n",
    "\n",
    "\n",
    "def plot_map(path):\n",
    "\n",
    "    gdf = gpd.GeoDataFrame.from_file(parse_geojson.load_geojson(path))\n",
    "\n",
    "    import matplotlib.pyplot as plt\n",
    "\n",
    "    fig, axs = plt.subplots(1, 3, figsize=(50, 50))\n",
    "\n",
    "    fig.suptitle(path, fontsize=50)\n",
    "\n",
    "    gdf.plot(ax=axs[0], aspect=1)\n",
    "    gdf.boundary.plot(ax=axs[1], aspect=1)\n",
    "    gdf.boundary.buffer(100).plot(ax=axs[2], aspect=1)\n",
    "\n",
    "    axs[0].set_title(\"Original\", fontsize=40)\n",
    "    axs[1].set_title(\"Boundary\", fontsize=40)\n",
    "    axs[2].set_title(\"Buffered Boundary\", fontsize=40)\n",
    "\n",
    "    for ax in axs:\n",
    "        ax.tick_params(axis='both', labelsize=30)\n",
    "\n",
    "    plt.show()\n",
    "\n",
    "    fig.savefig(Path(\"maps\", f\"{path.stem}.png\"))"
   ]
  },
  {
   "cell_type": "code",
   "execution_count": 21,
   "metadata": {},
   "outputs": [
    {
     "ename": "KeyError",
     "evalue": "'geometry'",
     "output_type": "error",
     "traceback": [
      "\u001b[0;31m---------------------------------------------------------------------------\u001b[0m",
      "\u001b[0;31mKeyError\u001b[0m                                  Traceback (most recent call last)",
      "Cell \u001b[0;32mIn[21], line 2\u001b[0m\n\u001b[1;32m      1\u001b[0m \u001b[38;5;28;01mfor\u001b[39;00m path \u001b[38;5;129;01min\u001b[39;00m paths:\n\u001b[0;32m----> 2\u001b[0m     plot_map(path)\n",
      "Cell \u001b[0;32mIn[20], line 6\u001b[0m, in \u001b[0;36mplot_map\u001b[0;34m(path)\u001b[0m\n\u001b[1;32m      4\u001b[0m \u001b[38;5;28;01mdef\u001b[39;00m \u001b[38;5;21mplot_map\u001b[39m(path):\n\u001b[0;32m----> 6\u001b[0m     gdf \u001b[38;5;241m=\u001b[39m gpd\u001b[38;5;241m.\u001b[39mGeoDataFrame\u001b[38;5;241m.\u001b[39mfrom_file(parse_geojson\u001b[38;5;241m.\u001b[39mload_geojson(path))\n\u001b[1;32m      8\u001b[0m     \u001b[38;5;28;01mimport\u001b[39;00m \u001b[38;5;21;01mmatplotlib\u001b[39;00m\u001b[38;5;21;01m.\u001b[39;00m\u001b[38;5;21;01mpyplot\u001b[39;00m \u001b[38;5;28;01mas\u001b[39;00m \u001b[38;5;21;01mplt\u001b[39;00m\n\u001b[1;32m     10\u001b[0m     fig, axs \u001b[38;5;241m=\u001b[39m plt\u001b[38;5;241m.\u001b[39msubplots(\u001b[38;5;241m1\u001b[39m, \u001b[38;5;241m3\u001b[39m, figsize\u001b[38;5;241m=\u001b[39m(\u001b[38;5;241m50\u001b[39m, \u001b[38;5;241m50\u001b[39m))\n",
      "File \u001b[0;32m~/Desktop/M2DS_2023-2024/3 - Capstone/2025/CapstoneContour/parse_geojson.py:83\u001b[0m, in \u001b[0;36mload_geojson\u001b[0;34m(filepath)\u001b[0m\n\u001b[1;32m     77\u001b[0m \u001b[38;5;28;01mdef\u001b[39;00m \u001b[38;5;21mload_geojson\u001b[39m(\n\u001b[1;32m     78\u001b[0m     filepath: Path,\n\u001b[1;32m     79\u001b[0m ) \u001b[38;5;241m-\u001b[39m\u001b[38;5;241m>\u001b[39m \u001b[38;5;28mtuple\u001b[39m[GeometryCollection, \u001b[38;5;28mlist\u001b[39m[\u001b[38;5;28mfloat\u001b[39m, \u001b[38;5;28mfloat\u001b[39m, \u001b[38;5;28mfloat\u001b[39m]]:\n\u001b[1;32m     80\u001b[0m \u001b[38;5;250m    \u001b[39m\u001b[38;5;124;03m\"\"\"Load the geojson file and return the geometry collection\u001b[39;00m\n\u001b[1;32m     81\u001b[0m \u001b[38;5;124;03m    scaled to meters and translated to the origin.\u001b[39;00m\n\u001b[1;32m     82\u001b[0m \u001b[38;5;124;03m    ==> Wrapper to use to load base output data.\"\"\"\u001b[39;00m\n\u001b[0;32m---> 83\u001b[0m     geom_col \u001b[38;5;241m=\u001b[39m _load_GeometryCollection_from_geojson(filepath)\n\u001b[1;32m     84\u001b[0m     \u001b[38;5;28;01mreturn\u001b[39;00m _offset_reduce_GeometryCollection(geom_col)\n",
      "File \u001b[0;32m~/Desktop/M2DS_2023-2024/3 - Capstone/2025/CapstoneContour/parse_geojson.py:44\u001b[0m, in \u001b[0;36m_load_GeometryCollection_from_geojson\u001b[0;34m(filepath)\u001b[0m\n\u001b[1;32m     41\u001b[0m \u001b[38;5;28;01mwith\u001b[39;00m \u001b[38;5;28mopen\u001b[39m(filepath) \u001b[38;5;28;01mas\u001b[39;00m f:\n\u001b[1;32m     42\u001b[0m     features \u001b[38;5;241m=\u001b[39m json\u001b[38;5;241m.\u001b[39mload(f)[\u001b[38;5;124m\"\u001b[39m\u001b[38;5;124mfeatures\u001b[39m\u001b[38;5;124m\"\u001b[39m]\n\u001b[1;32m     43\u001b[0m \u001b[38;5;28;01mreturn\u001b[39;00m GeometryCollection(\n\u001b[0;32m---> 44\u001b[0m     [shape(feature[\u001b[38;5;124m\"\u001b[39m\u001b[38;5;124mgeometry\u001b[39m\u001b[38;5;124m\"\u001b[39m]) \u001b[38;5;28;01mfor\u001b[39;00m feature \u001b[38;5;129;01min\u001b[39;00m features]\n\u001b[1;32m     45\u001b[0m )\n",
      "File \u001b[0;32m~/Desktop/M2DS_2023-2024/3 - Capstone/2025/CapstoneContour/parse_geojson.py:44\u001b[0m, in \u001b[0;36m<listcomp>\u001b[0;34m(.0)\u001b[0m\n\u001b[1;32m     41\u001b[0m \u001b[38;5;28;01mwith\u001b[39;00m \u001b[38;5;28mopen\u001b[39m(filepath) \u001b[38;5;28;01mas\u001b[39;00m f:\n\u001b[1;32m     42\u001b[0m     features \u001b[38;5;241m=\u001b[39m json\u001b[38;5;241m.\u001b[39mload(f)[\u001b[38;5;124m\"\u001b[39m\u001b[38;5;124mfeatures\u001b[39m\u001b[38;5;124m\"\u001b[39m]\n\u001b[1;32m     43\u001b[0m \u001b[38;5;28;01mreturn\u001b[39;00m GeometryCollection(\n\u001b[0;32m---> 44\u001b[0m     [shape(feature[\u001b[38;5;124m\"\u001b[39m\u001b[38;5;124mgeometry\u001b[39m\u001b[38;5;124m\"\u001b[39m]) \u001b[38;5;28;01mfor\u001b[39;00m feature \u001b[38;5;129;01min\u001b[39;00m features]\n\u001b[1;32m     45\u001b[0m )\n",
      "\u001b[0;31mKeyError\u001b[0m: 'geometry'"
     ]
    }
   ],
   "source": [
    "for path in paths:\n",
    "    plot_map(path)"
   ]
  },
  {
   "cell_type": "code",
   "execution_count": 37,
   "metadata": {},
   "outputs": [
    {
     "name": "stdout",
     "output_type": "stream",
     "text": [
      "   - Output0_clean : 0 features\n",
      "Series([], Name: count, dtype: int64)\n",
      "Output0_clean : 73868 lignes de code\n",
      "\n",
      "   - Output1_clean : 0 features\n",
      "Series([], Name: count, dtype: int64)\n",
      "Output1_clean : 25391 lignes de code\n",
      "\n",
      "   - Output2_clean : 0 features\n",
      "Series([], Name: count, dtype: int64)\n",
      "Output2_clean : 291540 lignes de code\n",
      "\n",
      "   - Output3_clean : 0 features\n",
      "Series([], Name: count, dtype: int64)\n",
      "Output3_clean : 6775 lignes de code\n",
      "\n",
      "   - Output4_clean : 0 features\n",
      "Series([], Name: count, dtype: int64)\n",
      "Output4_clean : 12547 lignes de code\n",
      "\n",
      "   - Output5_clean : 0 features\n",
      "Series([], Name: count, dtype: int64)\n",
      "Output5_clean : 6580 lignes de code\n",
      "\n",
      "   - Output6_clean : 0 features\n",
      "Series([], Name: count, dtype: int64)\n",
      "Output6_clean : 63832 lignes de code\n",
      "\n",
      "   - Output7_clean : 0 features\n",
      "Series([], Name: count, dtype: int64)\n",
      "Output7_clean : 78184 lignes de code\n",
      "\n",
      "   - Output8_clean : 0 features\n",
      "Series([], Name: count, dtype: int64)\n",
      "Output8_clean : 661377 lignes de code\n",
      "\n"
     ]
    }
   ],
   "source": [
    "#Nombre de features par fichier, nombre de features par type de géométrie, nombre de lignes de code par fichier\n",
    "\n",
    "for path in paths:\n",
    "    gdf = gpd.GeoDataFrame.from_file(path)\n",
    "    print(f\"   - {path.stem} : {len(gdf)} features\")\n",
    "    print(f\"{gdf.geom_type.value_counts()}\")\n",
    "    print(f\"{path.stem} : {len(open(path).readlines())} lignes de code\\n\")\n",
    "\n",
    "\n"
   ]
  },
  {
   "cell_type": "code",
   "execution_count": 5,
   "metadata": {},
   "outputs": [
    {
     "ename": "NameError",
     "evalue": "name 'plt' is not defined",
     "output_type": "error",
     "traceback": [
      "\u001b[0;31m---------------------------------------------------------------------------\u001b[0m",
      "\u001b[0;31mNameError\u001b[0m                                 Traceback (most recent call last)",
      "Cell \u001b[0;32mIn[5], line 16\u001b[0m\n\u001b[1;32m     14\u001b[0m \u001b[38;5;28;01mfor\u001b[39;00m path \u001b[38;5;129;01min\u001b[39;00m paths:\n\u001b[1;32m     15\u001b[0m     output_image \u001b[38;5;241m=\u001b[39m path\u001b[38;5;241m.\u001b[39mwith_suffix(\u001b[38;5;124m\"\u001b[39m\u001b[38;5;124m.png\u001b[39m\u001b[38;5;124m\"\u001b[39m)\n\u001b[0;32m---> 16\u001b[0m     \u001b[43mgeojson_to_image\u001b[49m\u001b[43m(\u001b[49m\u001b[43mpath\u001b[49m\u001b[43m,\u001b[49m\u001b[43m \u001b[49m\u001b[43moutput_image\u001b[49m\u001b[43m)\u001b[49m\n",
      "Cell \u001b[0;32mIn[5], line 5\u001b[0m, in \u001b[0;36mgeojson_to_image\u001b[0;34m(file_path, output_path, dpi)\u001b[0m\n\u001b[1;32m      2\u001b[0m gdf \u001b[38;5;241m=\u001b[39m gpd\u001b[38;5;241m.\u001b[39mread_file(file_path)\n\u001b[1;32m      4\u001b[0m \u001b[38;5;66;03m# Configurer la taille de la figure\u001b[39;00m\n\u001b[0;32m----> 5\u001b[0m fig, ax \u001b[38;5;241m=\u001b[39m \u001b[43mplt\u001b[49m\u001b[38;5;241m.\u001b[39msubplots(\u001b[38;5;241m1\u001b[39m, \u001b[38;5;241m1\u001b[39m, figsize\u001b[38;5;241m=\u001b[39m(\u001b[38;5;241m1000\u001b[39m, \u001b[38;5;241m1000\u001b[39m))\n\u001b[1;32m      6\u001b[0m gdf\u001b[38;5;241m.\u001b[39mplot(ax\u001b[38;5;241m=\u001b[39max, color\u001b[38;5;241m=\u001b[39m\u001b[38;5;124m\"\u001b[39m\u001b[38;5;124mblack\u001b[39m\u001b[38;5;124m\"\u001b[39m, edgecolor\u001b[38;5;241m=\u001b[39m\u001b[38;5;124m\"\u001b[39m\u001b[38;5;124mwhite\u001b[39m\u001b[38;5;124m\"\u001b[39m)\n\u001b[1;32m      8\u001b[0m \u001b[38;5;66;03m# Enregistrer l'image\u001b[39;00m\n",
      "\u001b[0;31mNameError\u001b[0m: name 'plt' is not defined"
     ]
    }
   ],
   "source": [
    "def geojson_to_image(file_path, output_path, dpi=300):\n",
    "    gdf = gpd.read_file(file_path)\n",
    "    \n",
    "    # Configurer la taille de la figure\n",
    "    fig, ax = plt.subplots(1, 1, figsize=(1000, 1000))\n",
    "    gdf.plot(ax=ax, color=\"black\", edgecolor=\"white\")\n",
    "    \n",
    "    # Enregistrer l'image\n",
    "    plt.axis(\"off\")  # Masquer les axes pour une image propre\n",
    "    plt.savefig(output_path, dpi=dpi, bbox_inches=\"tight\", pad_inches=0)\n",
    "    plt.close(fig)\n",
    "    print(f\"Image générée : {output_path}\")\n",
    "\n",
    "for path in paths:\n",
    "    output_image = path.with_suffix(\".png\")\n",
    "    geojson_to_image(path, output_image)"
   ]
  },
  {
   "cell_type": "code",
   "execution_count": null,
   "metadata": {},
   "outputs": [],
   "source": [
    "import cv2\n",
    "import numpy as np\n",
    "from matplotlib import pyplot as plt\n",
    "\n",
    "def segment_image(image_path, output_path):\n",
    "    # Charger l'image en niveaux de gris\n",
    "    image = cv2.imread(image_path, cv2.IMREAD_GRAYSCALE)\n",
    "    \n",
    "    # Binarisation (seuil)\n",
    "    _, binary = cv2.threshold(image, 127, 255, cv2.THRESH_BINARY_INV)\n",
    "    \n",
    "    # Détection des contours\n",
    "    contours, _ = cv2.findContours(binary, cv2.RETR_EXTERNAL, cv2.CHAIN_APPROX_SIMPLE)\n",
    "    \n",
    "    # Créer une image pour visualiser les contours\n",
    "    output = cv2.cvtColor(image, cv2.COLOR_GRAY2BGR)\n",
    "    for i, contour in enumerate(contours):\n",
    "        color = tuple(np.random.randint(0, 255, 3).tolist())  # Couleur aléatoire\n",
    "        cv2.drawContours(output, [contour], -1, color, 2)\n",
    "    \n",
    "    # Enregistrer l'image avec les contours\n",
    "    cv2.imwrite(output_path, output)\n",
    "    print(f\"Image segmentée enregistrée : {output_path}\")\n",
    "\n",
    "# Appliquer la segmentation sur les images générées\n",
    "for path in geojson_paths:\n",
    "    image_path = path.with_suffix(\".png\")\n",
    "    output_path = path.with_name(f\"{path.stem}_segmented.png\")\n",
    "    segment_image(str(image_path), str(output_path))\n"
   ]
  }
 ],
 "metadata": {
  "kernelspec": {
   "display_name": "contour",
   "language": "python",
   "name": "python3"
  },
  "language_info": {
   "codemirror_mode": {
    "name": "ipython",
    "version": 3
   },
   "file_extension": ".py",
   "mimetype": "text/x-python",
   "name": "python",
   "nbconvert_exporter": "python",
   "pygments_lexer": "ipython3",
   "version": "3.11.8"
  }
 },
 "nbformat": 4,
 "nbformat_minor": 2
}
