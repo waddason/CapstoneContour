{
 "cells": [
  {
   "cell_type": "code",
   "execution_count": null,
   "id": "489c6803-2f02-4464-a9f1-f2de42bf1405",
   "metadata": {},
   "outputs": [],
   "source": [
    "# pip install -q ultralytics\n",
    "## The docs: https://docs.ultralytics.com/fr/modes/"
   ]
  },
  {
   "cell_type": "code",
   "execution_count": null,
   "id": "59c00fb7-bfee-4164-866a-c879951ebf20",
   "metadata": {},
   "outputs": [],
   "source": [
    "from ultralytics import YOLO\n",
    "import cv2 \n",
    "import json\n",
    "import matplotlib.pyplot as plt\n",
    "import numpy as np\n",
    "import colorsys\n",
    "\n",
    "train = False"
   ]
  },
  {
   "cell_type": "markdown",
   "id": "6a4ab28c",
   "metadata": {},
   "source": [
    "## Training a segmentation model with YOLO11 "
   ]
  },
  {
   "cell_type": "code",
   "execution_count": null,
   "id": "86927f4b-00b1-4a8f-ab1a-c8fdf5416320",
   "metadata": {},
   "outputs": [],
   "source": [
    "# Load a pretrained YOLO model (recommended for training)\n",
    "if train == True:\n",
    "    model = YOLO(\"yolo11n-seg.pt\")\n",
    "    # Train the model on a custom dataset\n",
    "    model.train(data=\"room_segmentation/data.yaml\", epochs=200, imgsz=640, plots=True)"
   ]
  },
  {
   "cell_type": "code",
   "execution_count": null,
   "id": "d4763438-5683-4c3a-8dd4-a4d6ce33b09e",
   "metadata": {},
   "outputs": [],
   "source": [
    "# Load the segmentation trained model\n",
    "seg_model = YOLO(\"runs/segment/train/weights/best.pt\")"
   ]
  },
  {
   "cell_type": "markdown",
   "id": "7f5d5033",
   "metadata": {},
   "source": [
    "## Run batched inference on a list of images"
   ]
  },
  {
   "cell_type": "code",
   "execution_count": null,
   "id": "67667e3d-1143-41d8-8e6a-1b7b751cdae9",
   "metadata": {},
   "outputs": [],
   "source": [
    "# Run batched inference on a list of images\n",
    "base_path = f\"test_images/samples/\"\n",
    "paths_list = [f\"{base_path}/Output{i}_binary_image.png\" for i in range(8)]\n",
    "results = seg_model(paths_list, size=640)"
   ]
  },
  {
   "cell_type": "code",
   "execution_count": null,
   "id": "a635fe17",
   "metadata": {},
   "outputs": [],
   "source": [
    "# Process results list\n",
    "for i, result in enumerate(results):\n",
    "    masks = result.masks  # Masks object for segmentation masks outputs\n",
    "    probs = result.probs  # Probs object for classification outputs\n",
    "    result.save(filename=f\"test_images/results_samples/result{i}.png\")"
   ]
  },
  {
   "cell_type": "code",
   "execution_count": null,
   "id": "869cd790-99e5-4718-9d94-38d3697ccf3c",
   "metadata": {},
   "outputs": [],
   "source": [
    "def get_unique_color(index, total_colors=100):\n",
    "    \"\"\"Generate a unique color for a given index using HSV color space.\n",
    "    \n",
    "    Args:\n",
    "        index (int): The index for which to generate a color.\n",
    "        total_colors (int): The total number of distinct colors.\n",
    "\n",
    "    Returns:\n",
    "        tuple: RGB color as a tuple of floats (r, g, b).\n",
    "    \"\"\"\n",
    "    index = index % total_colors\n",
    "    hue = index / total_colors\n",
    "    rgb = colorsys.hsv_to_rgb(hue, 1.0, 1.0)\n",
    "    return rgb\n",
    "\n",
    "def plot_masks_countours(image_path, masks_xyn):\n",
    "\n",
    "    image = cv2.imread(image_path)\n",
    "    image = cv2.cvtColor(image, cv2.COLOR_BGR2RGB)\n",
    "\n",
    "    image_height, image_width = image.shape[:2]\n",
    "\n",
    "    plt.figure(figsize=(10, 10))\n",
    "    plt.imshow(image)\n",
    "\n",
    "    for i, mask in enumerate(masks_xyn):\n",
    "        polygon = np.array([[x * image_width, y * image_height] for x, y in mask])\n",
    "        plt.plot(polygon[:, 0], polygon[:, 1], linestyle='-', linewidth=2, color=get_unique_color(i))\n",
    "\n",
    "    plt.axis(\"off\")\n",
    "    plt.show()"
   ]
  },
  {
   "cell_type": "markdown",
   "id": "0ffe902b",
   "metadata": {},
   "source": [
    "### Plots the results of the inference (only the masks countours)"
   ]
  },
  {
   "cell_type": "code",
   "execution_count": null,
   "id": "41d70c2c-8c02-45b8-9021-42deac1cc6a7",
   "metadata": {},
   "outputs": [],
   "source": [
    "# Load image\n",
    "inferance_image = plot_masks_countours('test_images/samples/Output0_binary_image.png', results[0].masks.xyn)"
   ]
  },
  {
   "cell_type": "code",
   "execution_count": null,
   "id": "090d5603",
   "metadata": {},
   "outputs": [],
   "source": [
    "inferance_image = plot_masks_countours('test_images/samples/Output2_binary_image.png', results[2].masks.xyn)"
   ]
  },
  {
   "cell_type": "markdown",
   "id": "5ea46349",
   "metadata": {},
   "source": [
    "## Save the results in a geojson format with the right coordinates"
   ]
  },
  {
   "cell_type": "code",
   "execution_count": null,
   "id": "6b8a14e3-97cd-4784-8c5f-c706974cbd18",
   "metadata": {},
   "outputs": [],
   "source": [
    "def save_room_geojson(paths, results, threshold_conf=None):\n",
    "    geojson = {\n",
    "        \"type\": \"FeatureCollection\",\n",
    "        \"features\": []\n",
    "    }\n",
    "    #####################################################\n",
    "    print(f\"GeoJSON saved\")\n"
   ]
  },
  {
   "cell_type": "code",
   "execution_count": null,
   "id": "1303a0fe-f253-4049-8789-3e11a3129ce3",
   "metadata": {},
   "outputs": [],
   "source": [
    "paths = ['output0.geojson']\n",
    "save_room_geojson(paths, results)"
   ]
  },
  {
   "cell_type": "markdown",
   "id": "a4ec0795",
   "metadata": {},
   "source": [
    "### Make a single inference"
   ]
  },
  {
   "cell_type": "code",
   "execution_count": null,
   "id": "169eb3f1-d574-408f-ab9c-d820f31b3d5a",
   "metadata": {},
   "outputs": [],
   "source": [
    "# Run inference on one element 'outpout0.png' with arguments\n",
    "seg_model.predict(\"output0.png\", save=True, imgsz=320, conf=0.5)"
   ]
  }
 ],
 "metadata": {
  "kernelspec": {
   "display_name": "Python 3",
   "language": "python",
   "name": "python3"
  },
  "language_info": {
   "codemirror_mode": {
    "name": "ipython",
    "version": 3
   },
   "file_extension": ".py",
   "mimetype": "text/x-python",
   "name": "python",
   "nbconvert_exporter": "python",
   "pygments_lexer": "ipython3",
   "version": "3.12.9"
  }
 },
 "nbformat": 4,
 "nbformat_minor": 5
}
